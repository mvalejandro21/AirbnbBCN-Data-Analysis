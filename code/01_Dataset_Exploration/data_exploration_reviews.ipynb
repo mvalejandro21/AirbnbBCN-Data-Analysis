{
 "cells": [
  {
   "cell_type": "markdown",
   "id": "ee39af57",
   "metadata": {},
   "source": [
    "## 1. Preparacion de entorno"
   ]
  },
  {
   "cell_type": "code",
   "execution_count": 15,
   "id": "f4bab288",
   "metadata": {},
   "outputs": [],
   "source": [
    "\n",
    "import pandas as pd          # Manipulación de datos :contentReference[oaicite:0]{index=0}\n",
    "import numpy as np           # Cálculo numérico :contentReference[oaicite:1]{index=1}\n",
    "import matplotlib.pyplot as plt  # Visualizaciones básicas :contentReference[oaicite:2]{index=2}\n",
    "import seaborn as sns           # Gráficos estadísticos :contentReference[oaicite:3]{index=3}\n",
    "import missingno as msno       # Mapas de calor de nulos :contentReference[oaicite:4]{index=4}\n"
   ]
  },
  {
   "cell_type": "markdown",
   "id": "1747127e",
   "metadata": {},
   "source": [
    "## 2. Carga de Datos"
   ]
  },
  {
   "cell_type": "code",
   "execution_count": 27,
   "id": "92e0b57e",
   "metadata": {},
   "outputs": [
    {
     "name": "stdout",
     "output_type": "stream",
     "text": [
      "✅ Cargado reviews.csv: (965855, 6)\n"
     ]
    },
    {
     "data": {
      "text/plain": [
       "(965855, 6)"
      ]
     },
     "execution_count": 27,
     "metadata": {},
     "output_type": "execute_result"
    }
   ],
   "source": [
    "df_reviews = pd.read_csv('../../data/reviews.csv')\n",
    "print(\"✅ Cargado reviews.csv:\", df_reviews.shape)\n",
    "df_reviews.head()\n",
    "df_reviews.shape"
   ]
  },
  {
   "cell_type": "markdown",
   "id": "349593d8",
   "metadata": {},
   "source": [
    "## 3. Estructura General"
   ]
  },
  {
   "cell_type": "code",
   "execution_count": 29,
   "id": "9de45dc4",
   "metadata": {},
   "outputs": [
    {
     "name": "stdout",
     "output_type": "stream",
     "text": [
      "📝 Tipos de datos:\n",
      "int64     3\n",
      "object    3\n",
      "Name: count, dtype: int64\n",
      "\n",
      "📦 Valores únicos por columna:\n",
      "date               4854\n",
      "listing_id        14513\n",
      "reviewer_name    115424\n",
      "reviewer_id      913258\n",
      "comments         926229\n",
      "id               965855\n",
      "dtype: int64\n"
     ]
    }
   ],
   "source": [
    "print(\"📝 Tipos de datos:\")\n",
    "print(df_reviews.dtypes.value_counts())\n",
    "print(\"\\n📦 Valores únicos por columna:\")\n",
    "print(df_reviews.nunique().sort_values())\n"
   ]
  },
  {
   "cell_type": "code",
   "execution_count": 33,
   "id": "9306d928",
   "metadata": {},
   "outputs": [
    {
     "data": {
      "text/plain": [
       "comments         100\n",
       "reviewer_name      4\n",
       "id                 0\n",
       "listing_id         0\n",
       "reviewer_id        0\n",
       "date               0\n",
       "dtype: int64"
      ]
     },
     "metadata": {},
     "output_type": "display_data"
    },
    {
     "name": "stdout",
     "output_type": "stream",
     "text": [
      "0\n",
      "❗ Duplicados: 0\n"
     ]
    },
    {
     "data": {
      "image/png": "[encoded data removed]",
      "text/plain": [
       "<Figure size 1000x600 with 1 Axes>"
      ]
     },
     "metadata": {},
     "output_type": "display_data"
    }
   ],
   "source": [
    "\n",
    "\n",
    "missing = df_reviews.isnull().sum()\n",
    "missing\n",
    "display(missing.sort_values(ascending=False).head(10))\n",
    "\n",
    "\n",
    "print(df_reviews.duplicated().sum())\n",
    "print(\"❗ Duplicados:\", df_reviews.duplicated().sum())\n",
    "\n",
    "plt.figure(figsize=(10, 6))\n",
    "sns.barplot(x=missing.index, y=missing.values)\n",
    "plt.xticks(rotation=90) \n",
    "plt.title('Missing values')\n",
    "plt.xlabel('Features')\n",
    "plt.ylabel('Missing values')\n",
    "plt.show()\n",
    "\n",
    "\n",
    "\n"
   ]
  },
  {
   "cell_type": "markdown",
   "id": "806c6bb1",
   "metadata": {},
   "source": [
    "## 5. Estadisticas descriptivas"
   ]
  },
  {
   "cell_type": "code",
   "execution_count": 25,
   "id": "42d83344",
   "metadata": {},
   "outputs": [
    {
     "name": "stdout",
     "output_type": "stream",
     "text": [
      "📈 Resumen numérico:\n"
     ]
    },
    {
     "data": {
      "text/html": [
       "<div>\n",
       "<style scoped>\n",
       "    .dataframe tbody tr th:only-of-type {\n",
       "        vertical-align: middle;\n",
       "    }\n",
       "\n",
       "    .dataframe tbody tr th {\n",
       "        vertical-align: top;\n",
       "    }\n",
       "\n",
       "    .dataframe thead th {\n",
       "        text-align: right;\n",
       "    }\n",
       "</style>\n",
       "<table border=\"1\" class=\"dataframe\">\n",
       "  <thead>\n",
       "    <tr style=\"text-align: right;\">\n",
       "      <th></th>\n",
       "      <th>count</th>\n",
       "      <th>unique</th>\n",
       "      <th>top</th>\n",
       "      <th>freq</th>\n",
       "      <th>mean</th>\n",
       "      <th>std</th>\n",
       "      <th>min</th>\n",
       "      <th>25%</th>\n",
       "      <th>50%</th>\n",
       "      <th>75%</th>\n",
       "      <th>max</th>\n",
       "    </tr>\n",
       "  </thead>\n",
       "  <tbody>\n",
       "    <tr>\n",
       "      <th>listing_id</th>\n",
       "      <td>965855.0</td>\n",
       "      <td>NaN</td>\n",
       "      <td>NaN</td>\n",
       "      <td>NaN</td>\n",
       "      <td>135200904322043984.0</td>\n",
       "      <td>325195370701301504.0</td>\n",
       "      <td>18674.0</td>\n",
       "      <td>3480503.0</td>\n",
       "      <td>19028982.0</td>\n",
       "      <td>44003746.0</td>\n",
       "      <td>1368340927324103936.0</td>\n",
       "    </tr>\n",
       "    <tr>\n",
       "      <th>id</th>\n",
       "      <td>965855.0</td>\n",
       "      <td>NaN</td>\n",
       "      <td>NaN</td>\n",
       "      <td>NaN</td>\n",
       "      <td>617942259305746304.0</td>\n",
       "      <td>505224372250630656.0</td>\n",
       "      <td>63148.0</td>\n",
       "      <td>454473974.0</td>\n",
       "      <td>712065407084062720.0</td>\n",
       "      <td>1088999167205548672.0</td>\n",
       "      <td>1374615000404597248.0</td>\n",
       "    </tr>\n",
       "    <tr>\n",
       "      <th>date</th>\n",
       "      <td>965855</td>\n",
       "      <td>4854</td>\n",
       "      <td>2025-02-09</td>\n",
       "      <td>1091</td>\n",
       "      <td>NaN</td>\n",
       "      <td>NaN</td>\n",
       "      <td>NaN</td>\n",
       "      <td>NaN</td>\n",
       "      <td>NaN</td>\n",
       "      <td>NaN</td>\n",
       "      <td>NaN</td>\n",
       "    </tr>\n",
       "    <tr>\n",
       "      <th>reviewer_id</th>\n",
       "      <td>965855.0</td>\n",
       "      <td>NaN</td>\n",
       "      <td>NaN</td>\n",
       "      <td>NaN</td>\n",
       "      <td>171890467.511928</td>\n",
       "      <td>168743911.280685</td>\n",
       "      <td>3.0</td>\n",
       "      <td>34935837.0</td>\n",
       "      <td>109266079.0</td>\n",
       "      <td>262514723.5</td>\n",
       "      <td>682165112.0</td>\n",
       "    </tr>\n",
       "    <tr>\n",
       "      <th>reviewer_name</th>\n",
       "      <td>965851</td>\n",
       "      <td>115424</td>\n",
       "      <td>David</td>\n",
       "      <td>6157</td>\n",
       "      <td>NaN</td>\n",
       "      <td>NaN</td>\n",
       "      <td>NaN</td>\n",
       "      <td>NaN</td>\n",
       "      <td>NaN</td>\n",
       "      <td>NaN</td>\n",
       "      <td>NaN</td>\n",
       "    </tr>\n",
       "    <tr>\n",
       "      <th>comments</th>\n",
       "      <td>965755</td>\n",
       "      <td>926229</td>\n",
       "      <td>.</td>\n",
       "      <td>2251</td>\n",
       "      <td>NaN</td>\n",
       "      <td>NaN</td>\n",
       "      <td>NaN</td>\n",
       "      <td>NaN</td>\n",
       "      <td>NaN</td>\n",
       "      <td>NaN</td>\n",
       "      <td>NaN</td>\n",
       "    </tr>\n",
       "    <tr>\n",
       "      <th>comments_length</th>\n",
       "      <td>965855.0</td>\n",
       "      <td>NaN</td>\n",
       "      <td>NaN</td>\n",
       "      <td>NaN</td>\n",
       "      <td>248.633803</td>\n",
       "      <td>248.777537</td>\n",
       "      <td>0.0</td>\n",
       "      <td>82.0</td>\n",
       "      <td>177.0</td>\n",
       "      <td>331.0</td>\n",
       "      <td>5828.0</td>\n",
       "    </tr>\n",
       "  </tbody>\n",
       "</table>\n",
       "</div>"
      ],
      "text/plain": [
       "                    count  unique         top  freq                  mean  \\\n",
       "listing_id       965855.0     NaN         NaN   NaN  135200904322043984.0   \n",
       "id               965855.0     NaN         NaN   NaN  617942259305746304.0   \n",
       "date               965855    4854  2025-02-09  1091                   NaN   \n",
       "reviewer_id      965855.0     NaN         NaN   NaN      171890467.511928   \n",
       "reviewer_name      965851  115424       David  6157                   NaN   \n",
       "comments           965755  926229           .  2251                   NaN   \n",
       "comments_length  965855.0     NaN         NaN   NaN            248.633803   \n",
       "\n",
       "                                  std      min          25%  \\\n",
       "listing_id       325195370701301504.0  18674.0    3480503.0   \n",
       "id               505224372250630656.0  63148.0  454473974.0   \n",
       "date                              NaN      NaN          NaN   \n",
       "reviewer_id          168743911.280685      3.0   34935837.0   \n",
       "reviewer_name                     NaN      NaN          NaN   \n",
       "comments                          NaN      NaN          NaN   \n",
       "comments_length            248.777537      0.0         82.0   \n",
       "\n",
       "                                  50%                    75%  \\\n",
       "listing_id                 19028982.0             44003746.0   \n",
       "id               712065407084062720.0  1088999167205548672.0   \n",
       "date                              NaN                    NaN   \n",
       "reviewer_id               109266079.0            262514723.5   \n",
       "reviewer_name                     NaN                    NaN   \n",
       "comments                          NaN                    NaN   \n",
       "comments_length                 177.0                  331.0   \n",
       "\n",
       "                                   max  \n",
       "listing_id       1368340927324103936.0  \n",
       "id               1374615000404597248.0  \n",
       "date                               NaN  \n",
       "reviewer_id                682165112.0  \n",
       "reviewer_name                      NaN  \n",
       "comments                           NaN  \n",
       "comments_length                 5828.0  "
      ]
     },
     "metadata": {},
     "output_type": "display_data"
    }
   ],
   "source": [
    "print(\"📈 Resumen numérico:\")\n",
    "display(df_reviews.describe(include='all').T)\n"
   ]
  }
 ],
 "metadata": {
  "kernelspec": {
   "display_name": "Python 3",
   "language": "python",
   "name": "python3"
  },
  "language_info": {
   "codemirror_mode": {
    "name": "ipython",
    "version": 3
   },
   "file_extension": ".py",
   "mimetype": "text/x-python",
   "name": "python",
   "nbconvert_exporter": "python",
   "pygments_lexer": "ipython3",
   "version": "3.13.2"
  }
 },
 "nbformat": 4,
 "nbformat_minor": 5
}
